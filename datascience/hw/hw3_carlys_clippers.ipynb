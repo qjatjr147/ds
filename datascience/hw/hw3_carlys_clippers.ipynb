{
 "cells": [
  {
   "cell_type": "code",
   "execution_count": 11,
   "id": "0d14206f-3786-4204-86ed-81ff287a601a",
   "metadata": {},
   "outputs": [
    {
     "name": "stdout",
     "output_type": "stream",
     "text": [
      "Average Price is 31.875\n",
      "[25, 20, 35, 15, 15, 30, 45, 30]\n",
      "Total Revenue is 1085\n",
      "Average daily revenue is 155.0\n",
      "['bouffant', 'pixie', 'crew', 'bowl']\n"
     ]
    }
   ],
   "source": [
    "\"\"\"\n",
    "Carlys Clippers\n",
    "\"\"\"\n",
    "\n",
    "hairstyles = [\"bouffant\", \"pixie\", \"dreadlocks\", \"crew\", \"bowl\", \"bob\", \"mohawk\", \"flattop\"]\n",
    "\n",
    "prices = [30, 25, 40, 20, 20, 35, 50, 35]\n",
    "\n",
    "last_week = [2, 3, 5, 8, 4, 4, 6, 2]\n",
    "\n",
    "# 1,2\n",
    "total_price = 0\n",
    "for price in prices:\n",
    "  total_price += price\n",
    "\n",
    "# 3,4\n",
    "average_price = total_price / len(prices)\n",
    "print(\"Average Price is \" + str(average_price))\n",
    "\n",
    "# 5,6\n",
    "new_prices = [price -5 for price in  prices]\n",
    "print(new_prices)\n",
    "\n",
    "# 7,8,9,10\n",
    "total_revenue = 0\n",
    "for i in range(len(hairstyles)):\n",
    "  total_revenue += prices[i] * last_week[i]\n",
    "print(\"Total Revenue is \" + str(total_revenue))\n",
    "\n",
    "# 11\n",
    "average_daily_revenue = total_revenue / 7\n",
    "print(\"Average daily revenue is \" + str(average_daily_revenue))\n",
    "# 12,13\n",
    "cuts_under_30 =  [hairstyles[i] for i in range(len(hairstyles)) if new_prices[i] < 30 ] \n",
    "print(cuts_under_30)"
   ]
  }
 ],
 "metadata": {
  "kernelspec": {
   "display_name": "Python 3",
   "language": "python",
   "name": "python3"
  },
  "language_info": {
   "codemirror_mode": {
    "name": "ipython",
    "version": 3
   },
   "file_extension": ".py",
   "mimetype": "text/x-python",
   "name": "python",
   "nbconvert_exporter": "python",
   "pygments_lexer": "ipython3",
   "version": "3.8.8"
  }
 },
 "nbformat": 4,
 "nbformat_minor": 5
}
