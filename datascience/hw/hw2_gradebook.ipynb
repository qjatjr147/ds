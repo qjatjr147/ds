{
 "cells": [
  {
   "cell_type": "code",
   "execution_count": 3,
   "id": "f887e45f-2694-49bd-8d5d-b07dfca4eab1",
   "metadata": {},
   "outputs": [
    {
     "name": "stdout",
     "output_type": "stream",
     "text": [
      "[['physics', 98], ['calculus', 97], ['poetry', 85], ['history', 88]]\n",
      "[['politics', 80], ['latin', 96], ['dance', 97], ['architecture', 65], ['physics', 98], ['calculus', 97], ['poetry', 'Pass'], ['history', 88], ['computer science', 100], ['visual arts', 98]]\n"
     ]
    }
   ],
   "source": [
    "\"\"\"\n",
    "Gradebook\n",
    "\"\"\"\n",
    "#10\n",
    "last_semester_gradebook = [[\"politics\", 80], [\"latin\", 96], [\"dance\", 97], [\"architecture\", 65]]\n",
    "#1\n",
    "subjects = [\"physics\", \"calculus\", \"poetry\", \"history\"]\n",
    "#2\n",
    "grades = [98, 97, 85, 88]\n",
    "#3\n",
    "gradebook = [[\"physics\", 98], [\"calculus\", 97], [\"poetry\", 85], [\"history\", 88]]\n",
    "#4\n",
    "print(gradebook)\n",
    "#5\n",
    "gradebook.append([\"computer science\", 100])\n",
    "#6\n",
    "gradebook.append([\"visual arts\", 93])\n",
    "#7\n",
    "gradebook[-1][-1] = 98\n",
    "#8\n",
    "gradebook[2].remove(85)\n",
    "#9\n",
    "gradebook[2].append(\"Pass\")\n",
    "#10\n",
    "full_gradebook = last_semester_gradebook + gradebook\n",
    "print(full_gradebook)\n"
   ]
  }
 ],
 "metadata": {
  "kernelspec": {
   "display_name": "Python 3",
   "language": "python",
   "name": "python3"
  },
  "language_info": {
   "codemirror_mode": {
    "name": "ipython",
    "version": 3
   },
   "file_extension": ".py",
   "mimetype": "text/x-python",
   "name": "python",
   "nbconvert_exporter": "python",
   "pygments_lexer": "ipython3",
   "version": "3.8.8"
  }
 },
 "nbformat": 4,
 "nbformat_minor": 5
}
