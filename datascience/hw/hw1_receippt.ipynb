{
 "cells": [
  {
   "cell_type": "code",
   "execution_count": 19,
   "id": "ff4bd4b1",
   "metadata": {},
   "outputs": [
    {
     "name": "stdout",
     "output_type": "stream",
     "text": [
      "Customer One Items: \n",
      "Lovely Loveseat. Tufted polyester blend on wood. 32 inches high x 40 inches wide x 30 inches deep. Red or white.uxurious Lamp. Glass and iron. 36 inches tall. Brown with cream shade.\n",
      "Customer One Total: \n",
      "333.09119999999996\n"
     ]
    }
   ],
   "source": [
    "\"\"\"\n",
    "Receipts for Lovely Loveseats\n",
    "\"\"\"\n",
    "#1\n",
    "lovely_loveseat_description = \"Lovely Loveseat. Tufted polyester blend on wood. 32 inches high x 40 inches wide x 30 inches deep. Red or white.\"\n",
    "#2\n",
    "lovely_loveseat_price = 254.00\n",
    "#3\n",
    "stylish_settee_description = \"Stylish Settee. Faux leather on birch. 29.50 inches high x 54.75 inches wide x 28 inches deep. Black.\"\n",
    "#4\n",
    "stylish_settee_price = 180.50\n",
    "#5\n",
    "luxurious_lamp_description = \"uxurious Lamp. Glass and iron. 36 inches tall. Brown with cream shade.\"\n",
    "#6\n",
    "luxurious_lamp_price = 52.15\n",
    "#7\n",
    "sales_tax = .088\n",
    "\n",
    "#8\n",
    "customer_one_total = 0\n",
    "#9\n",
    "customer_one_itemization = \"\"\n",
    "#10\n",
    "customer_one_total += lovely_loveseat_price\n",
    "#11\n",
    "customer_one_itemization = lovely_loveseat_description\n",
    "#12\n",
    "customer_one_total += luxurious_lamp_price\n",
    "#13\n",
    "customer_one_itemization += luxurious_lamp_description\n",
    "#14 1#5\n",
    "customer_one_tax = (customer_one_total * sales_tax)\n",
    "#14\n",
    "customer_one_total += customer_one_tax\n",
    "\n",
    "#15\n",
    "print(\"Customer One Items: \")\n",
    "print(customer_one_itemization)\n",
    "print(\"Customer One Total: \")\n",
    "print(customer_one_total)\n"
   ]
  }
 ],
 "metadata": {
  "kernelspec": {
   "display_name": "Python 3",
   "language": "python",
   "name": "python3"
  },
  "language_info": {
   "codemirror_mode": {
    "name": "ipython",
    "version": 3
   },
   "file_extension": ".py",
   "mimetype": "text/x-python",
   "name": "python",
   "nbconvert_exporter": "python",
   "pygments_lexer": "ipython3",
   "version": "3.8.8"
  }
 },
 "nbformat": 4,
 "nbformat_minor": 5
}
