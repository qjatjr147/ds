{
 "cells": [
  {
   "cell_type": "code",
   "execution_count": 3,
   "id": "33272565",
   "metadata": {},
   "outputs": [
    {
     "name": "stdout",
     "output_type": "stream",
     "text": [
      "<class 'bool'>\n",
      "<class 'str'>\n"
     ]
    }
   ],
   "source": [
    "\"\"\"\n",
    "boolean variables\n",
    "\"\"\"\n",
    "\n",
    "is_tested = False\n",
    "print(type(is_tested))\n",
    "\n",
    "a = \"3.14\"\n",
    "print(type(a))\n"
   ]
  },
  {
   "cell_type": "code",
   "execution_count": 10,
   "id": "2f46a19b",
   "metadata": {},
   "outputs": [
    {
     "name": "stdout",
     "output_type": "stream",
     "text": [
      "말티즈.\n",
      "말티즈 아기.\n",
      "True\n"
     ]
    }
   ],
   "source": [
    "\"\"\"\n",
    "Conditioanl statements (if / elif / else)\n",
    "\"\"\"\n",
    "\n",
    "puppy = \"meltese\"\n",
    "age = 1\n",
    "is_yes = False\n",
    "\n",
    "if puppy == \"meltese\":\n",
    "    print(\"말티즈.\")\n",
    "    is_yes = True\n",
    "    \n",
    "    if age < 3:\n",
    "        print(\"말티즈 아기.\")\n",
    "    \n",
    "elif puppy == \"poodle\":\n",
    "    print(\"푸들.\")\n",
    "    is_yes = True\n",
    "    \n",
    "elif puppy == \"shitzu\":\n",
    "    print(\"시츄.\")\n",
    "    is_yes = True\n",
    "    \n",
    "else:\n",
    "    print(\"말티푸.\")\n",
    "    is_yes = True\n",
    "print(is_yes)\n"
   ]
  },
  {
   "cell_type": "code",
   "execution_count": 11,
   "id": "d62234b5",
   "metadata": {},
   "outputs": [
    {
     "name": "stdout",
     "output_type": "stream",
     "text": [
      "[Error]\n",
      "contiune\n"
     ]
    }
   ],
   "source": [
    "\"\"\" \n",
    "Exception Handling\n",
    "\"\"\"\n",
    "\n",
    "x = 1\n",
    "\n",
    "try:\n",
    "    print(y)\n",
    "    print(x)\n",
    "    \n",
    "except:\n",
    "    print('[Error]')\n",
    "\n",
    "print('contiune')"
   ]
  }
 ],
 "metadata": {
  "kernelspec": {
   "display_name": "Python 3",
   "language": "python",
   "name": "python3"
  },
  "language_info": {
   "codemirror_mode": {
    "name": "ipython",
    "version": 3
   },
   "file_extension": ".py",
   "mimetype": "text/x-python",
   "name": "python",
   "nbconvert_exporter": "python",
   "pygments_lexer": "ipython3",
   "version": "3.8.8"
  }
 },
 "nbformat": 4,
 "nbformat_minor": 5
}
