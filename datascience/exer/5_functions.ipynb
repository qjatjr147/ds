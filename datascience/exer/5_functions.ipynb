{
 "cells": [
  {
   "cell_type": "code",
   "execution_count": 7,
   "id": "c04809ac",
   "metadata": {},
   "outputs": [
    {
     "name": "stdout",
     "output_type": "stream",
     "text": [
      "4\n"
     ]
    },
    {
     "data": {
      "text/plain": [
       "6"
      ]
     },
     "execution_count": 7,
     "metadata": {},
     "output_type": "execute_result"
    }
   ],
   "source": [
    "\"\"\"\n",
    "Functions vs Method\n",
    "\"\"\"\n",
    "\n",
    "def my_function(x):\n",
    "    return x+1\n",
    "\n",
    "y = 3\n",
    "result = my_function(y)\n",
    "print(result)\n",
    "\n",
    "x = 1\n",
    "\n",
    "class my_class:\n",
    "    @staticmethod\n",
    "    def my_method(x):\n",
    "        return x+1\n",
    "\n",
    "cls = my_class()\n",
    "cls.my_method(5)\n"
   ]
  },
  {
   "cell_type": "code",
   "execution_count": 10,
   "id": "c915ba3d",
   "metadata": {},
   "outputs": [
    {
     "name": "stdout",
     "output_type": "stream",
     "text": [
      "Hello everyone, My name is Park Beom Seok, I was born in 1998, and I live in Dongtan.\n"
     ]
    }
   ],
   "source": [
    "\"\"\"\n",
    "Function Parameters\n",
    "\"\"\"\n",
    "\n",
    "def introduce_myself(name, birthyear, city): # parameter\n",
    "    print(\"Hello everyone, My name is %s, I was born in %d, and I live in %s.\" \\\n",
    "          % (name, birthyear, city))\n",
    "    \n",
    "introduce_myself(\"Park Beom Seok\", 1998, \"Dongtan\")# argument"
   ]
  },
  {
   "cell_type": "code",
   "execution_count": 11,
   "id": "45adc03c",
   "metadata": {},
   "outputs": [
    {
     "name": "stdout",
     "output_type": "stream",
     "text": [
      "2020 is a leap year.\n"
     ]
    }
   ],
   "source": [
    "\"\"\"\n",
    "Return Keyword\n",
    "\"\"\"\n",
    "\n",
    "#leap year = 윤년(2월 29일)\n",
    "def check_leap_year(year):\n",
    "    if year % 4 ==0:\n",
    "        return \"%s is a leap year.\" % (year)\n",
    "    else:\n",
    "        return \"%s is not a leap year.\" % (year)\n",
    "    \n",
    "result = check_leap_year(2020)\n",
    "print(result)\n",
    "        "
   ]
  },
  {
   "cell_type": "code",
   "execution_count": 13,
   "id": "3855b4bb",
   "metadata": {},
   "outputs": [
    {
     "name": "stdout",
     "output_type": "stream",
     "text": [
      "9 16 25\n"
     ]
    }
   ],
   "source": [
    "\"\"\"\n",
    "Returning Multiple Values\n",
    "\"\"\"\n",
    "\n",
    "def square_point(x, y, z):\n",
    "    x_squared = x ** 2\n",
    "    y_squared = y ** 2\n",
    "    z_squared = z ** 2\n",
    "    return x_squared, y_squared, z_squared\n",
    "\n",
    "three_squared, four_squared, five_squared = square_point(3, 4, 5)\n",
    "print(three_squared, four_squared, five_squared )"
   ]
  },
  {
   "cell_type": "code",
   "execution_count": 16,
   "id": "efec8fa2",
   "metadata": {},
   "outputs": [
    {
     "name": "stdout",
     "output_type": "stream",
     "text": [
      "Hello\n",
      "Hello\n"
     ]
    }
   ],
   "source": [
    "\"\"\"\n",
    "Global Variables\n",
    "\"\"\"\n",
    "\n",
    "a = \"Hello\" # global var\n",
    "\n",
    "def prints_a():\n",
    "    print(a)\n",
    "    \n",
    "print(a)\n",
    "prints_a()"
   ]
  },
  {
   "cell_type": "code",
   "execution_count": 17,
   "id": "b03878c9",
   "metadata": {},
   "outputs": [
    {
     "name": "stdout",
     "output_type": "stream",
     "text": [
      "2\n"
     ]
    }
   ],
   "source": [
    "\"\"\"\n",
    "Local Varlables\n",
    "\"\"\"\n",
    "\n",
    "b =  2 #global var\n",
    "\n",
    "def f1():\n",
    "    # b = 3 #tacal var\n",
    "    print(b)\n",
    "    \n",
    "f1()"
   ]
  },
  {
   "cell_type": "code",
   "execution_count": 22,
   "id": "d4208784",
   "metadata": {},
   "outputs": [
    {
     "name": "stdout",
     "output_type": "stream",
     "text": [
      "Height = 1\n",
      "Width = 2\n",
      "Depth = 4\n",
      "8\n"
     ]
    }
   ],
   "source": [
    "\"\"\"\n",
    "Keyword Arguments and Default Values\n",
    "\"\"\"\n",
    "\n",
    "def findvolume(height, width, depth=3):\n",
    "    print(\"Height = %s\"% (height))\n",
    "    print(\"Width = %s\" % (width))\n",
    "    print(\"Depth = %s\" % (depth))\n",
    "    return height * width * depth\n",
    "\n",
    "# ex: heigth = 1, width = 2, depth = 4\n",
    "print(findvolume(width=2, height=1, depth=4))\n"
   ]
  }
 ],
 "metadata": {
  "kernelspec": {
   "display_name": "Python 3",
   "language": "python",
   "name": "python3"
  },
  "language_info": {
   "codemirror_mode": {
    "name": "ipython",
    "version": 3
   },
   "file_extension": ".py",
   "mimetype": "text/x-python",
   "name": "python",
   "nbconvert_exporter": "python",
   "pygments_lexer": "ipython3",
   "version": "3.8.8"
  }
 },
 "nbformat": 4,
 "nbformat_minor": 5
}
