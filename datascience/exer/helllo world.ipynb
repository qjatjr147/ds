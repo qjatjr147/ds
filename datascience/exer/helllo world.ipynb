{
 "cells": [
  {
   "cell_type": "code",
   "execution_count": 1,
   "id": "efbb8a8a-8af9-4b27-aed6-7b85cb8b869f",
   "metadata": {},
   "outputs": [
    {
     "name": "stdout",
     "output_type": "stream",
     "text": [
      "hello world!\n",
      "100\n",
      "3.14\n",
      "My name is Pakr Beom Seok!\n"
     ]
    }
   ],
   "source": [
    "\"\"\"\n",
    "print()function\n",
    "\"\"\"\n",
    "\n",
    "print(\"hello world!\")\n",
    "print(100)\n",
    "pi = 3.14\n",
    "print(pi)\n",
    "\n",
    "intro = \"My name is \"\n",
    "name = \"Pakr Beom Seok\"\n",
    "print (intro + name + \"!\")\n"
   ]
  },
  {
   "cell_type": "code",
   "execution_count": 15,
   "id": "035c7b32-cd5d-4ba2-9ce3-6ac8f9aa99be",
   "metadata": {},
   "outputs": [
    {
     "ename": "NameError",
     "evalue": "name 'true' is not defined",
     "output_type": "error",
     "traceback": [
      "\u001b[1;31m---------------------------------------------------------------------------\u001b[0m",
      "\u001b[1;31mNameError\u001b[0m                                 Traceback (most recent call last)",
      "\u001b[1;32m<ipython-input-15-0988c7c95108>\u001b[0m in \u001b[0;36m<module>\u001b[1;34m\u001b[0m\n\u001b[0;32m      7\u001b[0m \u001b[0muser_id\u001b[0m \u001b[1;33m=\u001b[0m \u001b[1;36m201655007\u001b[0m\u001b[1;33m\u001b[0m\u001b[1;33m\u001b[0m\u001b[0m\n\u001b[0;32m      8\u001b[0m \u001b[0muser_email\u001b[0m \u001b[1;33m=\u001b[0m \u001b[1;34m\"qjatjr100@hs.ac.kr\"\u001b[0m\u001b[1;33m\u001b[0m\u001b[1;33m\u001b[0m\u001b[0m\n\u001b[1;32m----> 9\u001b[1;33m \u001b[0mis_student\u001b[0m \u001b[1;33m=\u001b[0m \u001b[0mtrue\u001b[0m\u001b[1;33m\u001b[0m\u001b[1;33m\u001b[0m\u001b[0m\n\u001b[0m",
      "\u001b[1;31mNameError\u001b[0m: name 'true' is not defined"
     ]
    }
   ],
   "source": [
    "\"\"\"\n",
    "Variables\n",
    "\"\"\"\n",
    "\n",
    "\n",
    "user_name = \"Park Beom Seok\"\n",
    "user_id = 201655007\n",
    "user_email = \"qjatjr100@hs.ac.kr\"\n",
    "is_student = true\n"
   ]
  },
  {
   "cell_type": "code",
   "execution_count": 3,
   "id": "87519300-8524-47fb-85a1-de9d6db9465f",
   "metadata": {},
   "outputs": [],
   "source": [
    "\"\"\"\n",
    "Data Types: Integers\n",
    "\"\"\"\n",
    "\n",
    "note book = 2\n",
    "tv = 1\n",
    "watch = 2\n",
    "mouse = 3"
   ]
  },
  {
   "cell_type": "code",
   "execution_count": 9,
   "id": "537ff450-13a6-46a6-845c-80bc86f3db79",
   "metadata": {},
   "outputs": [],
   "source": [
    "\"\"\"\n",
    "Data Types: Real Numbers\n",
    "\"\"\"\n",
    "\n",
    "samsung_index = 77,300\n",
    "kosdaq_index = 1037.03\n",
    "krw_jpy_exchange = 1066.50\n"
   ]
  },
  {
   "cell_type": "code",
   "execution_count": 8,
   "id": "a7b0a819-5068-474e-8bf1-4f202281b43f",
   "metadata": {},
   "outputs": [],
   "source": [
    "\"\"\"\n",
    "Data Types: Strings\n",
    "\"\"\"\n",
    "\n",
    "favorite_exercise = \"soccer\"\n",
    "favorite_soccer_player = \"pogba\"\n",
    "favorite_enterprise = \"apple\""
   ]
  }
 ],
 "metadata": {
  "kernelspec": {
   "display_name": "Python 3",
   "language": "python",
   "name": "python3"
  },
  "language_info": {
   "codemirror_mode": {
    "name": "ipython",
    "version": 3
   },
   "file_extension": ".py",
   "mimetype": "text/x-python",
   "name": "python",
   "nbconvert_exporter": "python",
   "pygments_lexer": "ipython3",
   "version": "3.8.8"
  }
 },
 "nbformat": 4,
 "nbformat_minor": 5
}
